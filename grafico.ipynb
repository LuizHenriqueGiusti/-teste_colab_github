{
  "nbformat": 4,
  "nbformat_minor": 0,
  "metadata": {
    "colab": {
      "name": "Untitled1.ipynb",
      "provenance": [],
      "collapsed_sections": [],
      "authorship_tag": "ABX9TyOnA3oWF+rH7MSwPJCba5w1",
      "include_colab_link": true
    },
    "kernelspec": {
      "name": "python3",
      "display_name": "Python 3"
    }
  },
  "cells": [
    {
      "cell_type": "markdown",
      "metadata": {
        "id": "view-in-github",
        "colab_type": "text"
      },
      "source": [
        "<a href=\"https://colab.research.google.com/github/LuizHenriqueGiusti/-teste_colab_github/blob/main/grafico.ipynb\" target=\"_parent\"><img src=\"https://colab.research.google.com/assets/colab-badge.svg\" alt=\"Open In Colab\"/></a>"
      ]
    },
    {
      "cell_type": "code",
      "metadata": {
        "id": "4DeI9_ebRKhN"
      },
      "source": [
        "import pandas as pd\n",
        "import matplotlib.pyplot as plt\n",
        "\n",
        "\n",
        "dados = pd.read_csv(\"dados.csv\",index_col=0)\n",
        "\n",
        "dados\n",
        "#HÁ COMANDOS PARA FILTROS\n",
        "\n",
        "#dados.plot (kind=\"scatter\",x=\"apple\",y=\"orange\")\n"
      ],
      "execution_count": null,
      "outputs": []
    },
    {
      "cell_type": "code",
      "metadata": {
        "id": "0tur6i07NPQ8"
      },
      "source": [
        "import pandas as pd\n",
        "\n",
        "dados = {\"apples\":[3,2,0,1],\"orange\":[0,3,7,2]}\n",
        "\n",
        "compras = pd.DataFrame(dados,index=[\"david\", \"ana\", \"pai\", \"mae\"])\n",
        "\n",
        "compras\n",
        "#compras.loc[2]\n",
        "#compras.loc[2][1]\n",
        "\n",
        "#compras.to_csv(\"compras2.csv\")\n"
      ],
      "execution_count": null,
      "outputs": []
    },
    {
      "cell_type": "code",
      "metadata": {
        "id": "Kj4XOuYKg3oz",
        "outputId": "f4cc505c-1aee-487a-b26e-6afc89a81061",
        "colab": {
          "base_uri": "https://localhost:8080/",
          "height": 281
        }
      },
      "source": [
        "import pandas as pd\n",
        "import matplotlib.pyplot as plt\n",
        "from sklearn import linear_model\n",
        "\n",
        "compras = pd.read_csv(\"dados.csv\",index_col=0)\n",
        "\n",
        "x = compras [['apple']]\n",
        "y = compras [['orange']]\n",
        "\n",
        "model = linear_model.LinearRegression()\n",
        "model.fit(x,y)\n",
        "\n",
        "plt.scatter(x,y)\n",
        "dx = range(0,31,1)\n",
        "plt.plot(dx,(dx * model.coef_[0][0] + model.intercept_[0]), color = \"red\")"
      ],
      "execution_count": 55,
      "outputs": [
        {
          "output_type": "execute_result",
          "data": {
            "text/plain": [
              "[<matplotlib.lines.Line2D at 0x7f17bc019710>]"
            ]
          },
          "metadata": {
            "tags": []
          },
          "execution_count": 55
        },
        {
          "output_type": "display_data",
          "data": {
            "image/png": "[encoded data removed]",
            "text/plain": [
              "<Figure size 432x288 with 1 Axes>"
            ]
          },
          "metadata": {
            "tags": [],
            "needs_background": "light"
          }
        }
      ]
    }
  ]
}