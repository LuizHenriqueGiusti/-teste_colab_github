{
  "nbformat": 4,
  "nbformat_minor": 0,
  "metadata": {
    "colab": {
      "name": "Untitled1.ipynb",
      "provenance": [],
      "collapsed_sections": [],
      "authorship_tag": "ABX9TyPF3OHcSHfN3dp7olpGt0Zi",
      "include_colab_link": true
    },
    "kernelspec": {
      "name": "python3",
      "display_name": "Python 3"
    }
  },
  "cells": [
    {
      "cell_type": "markdown",
      "metadata": {
        "id": "view-in-github",
        "colab_type": "text"
      },
      "source": [
        "<a href=\"https://colab.research.google.com/github/LuizHenriqueGiusti/-teste_colab_github/blob/main/Untitled1.ipynb\" target=\"_parent\"><img src=\"https://colab.research.google.com/assets/colab-badge.svg\" alt=\"Open In Colab\"/></a>"
      ]
    },
    {
      "cell_type": "code",
      "metadata": {
        "id": "0tur6i07NPQ8"
      },
      "source": [
        "import pandas as pd\n",
        "\n",
        "dados = {\"apples\":[3,2,0,1],\"orange\":[0,3,7,2]}\n",
        "\n",
        "compras = pd.DataFrame(dados,index=[\"david\", \"ana\", \"pai\", \"mae\"])\n",
        "\n",
        "#compras\n",
        "#compras.loc[2]\n",
        "#compras.loc[2][1]\n",
        "\n",
        "compras.to_csv(\"compras2.csv\")\n"
      ],
      "execution_count": null,
      "outputs": []
    },
    {
      "cell_type": "code",
      "metadata": {
        "id": "4DeI9_ebRKhN",
        "outputId": "3d922c06-baff-4feb-f6c2-efd5e73d4cc5",
        "colab": {
          "base_uri": "https://localhost:8080/",
          "height": 295
        }
      },
      "source": [
        "import pandas as pd\n",
        "import matplotlib.pyplot as plt\n",
        "\n",
        "\n",
        "dados = pd.read_csv(\"dados.csv\")\n",
        "\n",
        "dados\n",
        "#HÁ COMANDOS PARA FILTROS\n",
        "\n",
        "dados.plot (kind=\"scatter\",x=\"apple\",y=\"orange\")\n"
      ],
      "execution_count": null,
      "outputs": [
        {
          "output_type": "execute_result",
          "data": {
            "text/plain": [
              "<matplotlib.axes._subplots.AxesSubplot at 0x7f17c91585f8>"
            ]
          },
          "metadata": {
            "tags": []
          },
          "execution_count": 41
        },
        {
          "output_type": "display_data",
          "data": {
            "image/png": "[encoded data removed]",
            "text/plain": [
              "<Figure size 432x288 with 1 Axes>"
            ]
          },
          "metadata": {
            "tags": [],
            "needs_background": "light"
          }
        }
      ]
    },
    {
      "cell_type": "code",
      "metadata": {
        "id": "GZQ8-Jz5TX6Y"
      },
      "source": [
        ""
      ],
      "execution_count": null,
      "outputs": []
    }
  ]
}