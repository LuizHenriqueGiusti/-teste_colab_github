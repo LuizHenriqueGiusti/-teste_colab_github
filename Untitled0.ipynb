{
  "nbformat": 4,
  "nbformat_minor": 0,
  "metadata": {
    "colab": {
      "name": "Untitled0.ipynb",
      "provenance": [],
      "collapsed_sections": [],
      "authorship_tag": "ABX9TyMUcZ+iajTclDpy19O9eW3M",
      "include_colab_link": true
    },
    "kernelspec": {
      "name": "python3",
      "display_name": "Python 3"
    }
  },
  "cells": [
    {
      "cell_type": "markdown",
      "metadata": {
        "id": "view-in-github",
        "colab_type": "text"
      },
      "source": [
        "<a href=\"https://colab.research.google.com/github/LuizHenriqueGiusti/-teste_colab_github/blob/main/Untitled0.ipynb\" target=\"_parent\"><img src=\"https://colab.research.google.com/assets/colab-badge.svg\" alt=\"Open In Colab\"/></a>"
      ]
    },
    {
      "cell_type": "code",
      "metadata": {
        "id": "qX2cA4bBPZ22",
        "outputId": "bff218da-7eab-43ba-b0e7-cbecc3d8bb65",
        "colab": {
          "base_uri": "https://localhost:8080/",
          "height": 560
        }
      },
      "source": [
        "import matplotlib.pyplot as plt\n",
        "\n",
        "m = [\"jan\", \"fev\", \"mar\", \"abr\",\"mai\", \"jun\"]\n",
        "m2 = [1,2,3,4,5,6]\n",
        "m3 = [1.4, 2.4, 3.4, 4.4, 5.4, 6.4]\n",
        "v1 = [11, 10.1, 12.8, 10.2, 12.91, 11.1]\n",
        "v2 = [10, 15, 13, 12, 18, 9]\n",
        "\n",
        "#plt.xlabel(\"meses\")\n",
        "#plt.ylabel(\"Custo (em 1000 reais)\")\n",
        "#plt.title (\"dados da loja\")\n",
        "#plt.ylim(0,30)\n",
        "#plt.plot (m,v1, marker = \"o\",color = \"red\")\n",
        " \n",
        "#plt.bar(m,v1)\n",
        "\n",
        "#plt.bar(m2, v1, color = \"red\", width = 0.25)\n",
        "#plt.bar(m3, v2, color = \"blue\", width = 0.25)\n",
        "#plt.xticks([1.2, 2.2, 3.2, 4.2, 5.2, 6.2],m)\n",
        "\n",
        "plt.pie(v1, labels = m, autopct=\"%.1f%%\")\n",
        "\n"
      ],
      "execution_count": 27,
      "outputs": [
        {
          "output_type": "execute_result",
          "data": {
            "text/plain": [
              "([<matplotlib.patches.Wedge at 0x7fce6ecd57b8>,\n",
              "  <matplotlib.patches.Wedge at 0x7fce6ecd6e48>,\n",
              "  <matplotlib.patches.Wedge at 0x7fce6e8ce940>,\n",
              "  <matplotlib.patches.Wedge at 0x7fce6e8460f0>,\n",
              "  <matplotlib.patches.Wedge at 0x7fce6e846860>,\n",
              "  <matplotlib.patches.Wedge at 0x7fce6e846fd0>],\n",
              " [Text(0.9614236313265143, 0.534476006128375, 'jan'),\n",
              "  Text(0.0990580422083592, 1.0955306952677535, 'fev'),\n",
              "  Text(-0.904938452430262, 0.6253690089164338, 'mar'),\n",
              "  Text(-0.9875165254535608, -0.4845731234355935, 'abr'),\n",
              "  Text(-0.053507325216796194, -1.098697850251899, 'mai'),\n",
              "  Text(0.9589480798761676, -0.538904982442927, 'jun')],\n",
              " [Text(0.5244128898144623, 0.2915323669791136, '16.2%'),\n",
              "  Text(0.05403165938637774, 0.5975621974187745, '14.8%'),\n",
              "  Text(-0.4936027922346883, 0.3411103684998729, '18.8%'),\n",
              "  Text(-0.538645377520124, -0.26431261278305096, '15.0%'),\n",
              "  Text(-0.029185813754616104, -0.5992897365010358, '19.0%'),\n",
              "  Text(0.5230625890233641, -0.2939481722415965, '16.3%')])"
            ]
          },
          "metadata": {
            "tags": []
          },
          "execution_count": 27
        },
        {
          "output_type": "display_data",
          "data": {
            "image/png": "[encoded data removed]",
            "text/plain": [
              "<Figure size 432x288 with 1 Axes>"
            ]
          },
          "metadata": {
            "tags": []
          }
        }
      ]
    },
    {
      "cell_type": "code",
      "metadata": {
        "id": "4oqUU4HnPnP8"
      },
      "source": [
        ""
      ],
      "execution_count": null,
      "outputs": []
    }
  ]
}