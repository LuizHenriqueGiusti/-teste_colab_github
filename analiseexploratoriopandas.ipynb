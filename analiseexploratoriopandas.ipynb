{
  "nbformat": 4,
  "nbformat_minor": 0,
  "metadata": {
    "colab": {
      "name": "Untitled2.ipynb",
      "provenance": [],
      "collapsed_sections": [],
      "authorship_tag": "ABX9TyPCO71pC2RU+DTsKq0zSmri",
      "include_colab_link": true
    },
    "kernelspec": {
      "name": "python3",
      "display_name": "Python 3"
    }
  },
  "cells": [
    {
      "cell_type": "markdown",
      "metadata": {
        "id": "view-in-github",
        "colab_type": "text"
      },
      "source": [
        "<a href=\"https://colab.research.google.com/github/LuizHenriqueGiusti/-teste_colab_github/blob/main/analiseexploratoriopandas.ipynb\" target=\"_parent\"><img src=\"https://colab.research.google.com/assets/colab-badge.svg\" alt=\"Open In Colab\"/></a>"
      ]
    },
    {
      "cell_type": "code",
      "metadata": {
        "id": "59BoWewpRqcw"
      },
      "source": [
        "import pandas as pd\n",
        "\n",
        "compra = pd.read_csv(\"loja.csv\", index_col=0)\n",
        "\n",
        "compra.loc[\"mai\"][1]=75\n",
        "\n",
        "compra.to_csv('loja2.csv')"
      ],
      "execution_count": 24,
      "outputs": []
    },
    {
      "cell_type": "code",
      "metadata": {
        "id": "N6d29LeMSdDP"
      },
      "source": [
        "import pandas as pd\n",
        "\n",
        "compra = pd.read_csv(\"loja.csv\", index_col=0)\n",
        "\n",
        "#compra.loc['mar']\n",
        "compra.iloc[2]"
      ],
      "execution_count": null,
      "outputs": []
    },
    {
      "cell_type": "code",
      "metadata": {
        "id": "8J0vvzTWS4Vb"
      },
      "source": [
        "import pandas as pd\n",
        "\n",
        "compra = pd.read_csv(\"loja.csv\", index_col=0)\n",
        "\n",
        "#compra.columns\n",
        "#compra.columns[0]\n",
        "#compra.rename(columns={'rec':'receita'},inplace = True) #renomear coluna\n",
        "compra"
      ],
      "execution_count": null,
      "outputs": []
    },
    {
      "cell_type": "code",
      "metadata": {
        "id": "4U_mhgv9UU8p"
      },
      "source": [
        "import pandas as pd\n",
        "\n",
        "#compra = pd.read_csv(\"loja.csv\", index_col=0)\n",
        "\n",
        "#compra = compra.drop(columns=['custo'])\n",
        "#compra = compra.drop(index = ['abr','jun'])\n",
        "compra"
      ],
      "execution_count": null,
      "outputs": []
    },
    {
      "cell_type": "code",
      "metadata": {
        "id": "rx-CdrUwRO-8"
      },
      "source": [
        "import pandas as pd\n",
        "\n",
        "compra = pd.read_csv(\"loja.csv\", index_col=0)\n",
        "\n",
        "compra"
      ],
      "execution_count": null,
      "outputs": []
    },
    {
      "cell_type": "code",
      "metadata": {
        "id": "GAYpoeyvVHeZ"
      },
      "source": [
        "import pandas as pd\n",
        "\n",
        "#compra = pd.read_csv(\"loja.csv\", index_col=0)\n",
        "\n",
        "compra.query('receita<96')"
      ],
      "execution_count": null,
      "outputs": []
    },
    {
      "cell_type": "code",
      "metadata": {
        "id": "gCTUXg9WVdRI"
      },
      "source": [
        "import pandas as pd\n",
        "\n",
        "#compra = pd.read_csv(\"loja.csv\", index_col=0)\n",
        "\n",
        "compra2 = compra.query('receita<111 & custo>80')\n",
        "compra2\n"
      ],
      "execution_count": null,
      "outputs": []
    },
    {
      "cell_type": "code",
      "metadata": {
        "id": "INDSWiC_WQtw",
        "outputId": "0b984a56-0396-4ac3-d752-f53dbc946daa",
        "colab": {
          "base_uri": "https://localhost:8080/",
          "height": 167
        }
      },
      "source": [
        "import pandas as pd\n",
        "\n",
        "#compra = pd.read_csv(\"loja.csv\", index_col=0)\n",
        "\n",
        "compra.query('receita<98 or custo>90')\n"
      ],
      "execution_count": 62,
      "outputs": [
        {
          "output_type": "execute_result",
          "data": {
            "text/html": [
              "<div>\n",
              "<style scoped>\n",
              "    .dataframe tbody tr th:only-of-type {\n",
              "        vertical-align: middle;\n",
              "    }\n",
              "\n",
              "    .dataframe tbody tr th {\n",
              "        vertical-align: top;\n",
              "    }\n",
              "\n",
              "    .dataframe thead th {\n",
              "        text-align: right;\n",
              "    }\n",
              "</style>\n",
              "<table border=\"1\" class=\"dataframe\">\n",
              "  <thead>\n",
              "    <tr style=\"text-align: right;\">\n",
              "      <th></th>\n",
              "      <th>receita</th>\n",
              "      <th>custo</th>\n",
              "    </tr>\n",
              "    <tr>\n",
              "      <th>mes</th>\n",
              "      <th></th>\n",
              "      <th></th>\n",
              "    </tr>\n",
              "  </thead>\n",
              "  <tbody>\n",
              "    <tr>\n",
              "      <th>jan</th>\n",
              "      <td>95.0</td>\n",
              "      <td>70.0</td>\n",
              "    </tr>\n",
              "    <tr>\n",
              "      <th>mar</th>\n",
              "      <td>89.0</td>\n",
              "      <td>68.0</td>\n",
              "    </tr>\n",
              "    <tr>\n",
              "      <th>mai</th>\n",
              "      <td>115.0</td>\n",
              "      <td>92.0</td>\n",
              "    </tr>\n",
              "  </tbody>\n",
              "</table>\n",
              "</div>"
            ],
            "text/plain": [
              "     receita  custo\n",
              "mes                \n",
              "jan     95.0   70.0\n",
              "mar     89.0   68.0\n",
              "mai    115.0   92.0"
            ]
          },
          "metadata": {
            "tags": []
          },
          "execution_count": 62
        }
      ]
    },
    {
      "cell_type": "code",
      "metadata": {
        "id": "ullQxqqYWguY",
        "outputId": "6b4caba4-fb2c-4ede-da2d-acf689e7fd7b",
        "colab": {
          "base_uri": "https://localhost:8080/"
        }
      },
      "source": [
        "import pandas as pd\n",
        "\n",
        "#compra = pd.read_csv(\"loja.csv\", index_col=0)\n",
        "\n",
        "#compra.query('receita<98 or custo>90')\n",
        "\n",
        "#a = list(compra['custo'])\n",
        "#b = list(compra.iloc[1])\n",
        "\n",
        "for i in compra.iloc:\n",
        "  print((list(i)[0]-list(i)[1]))"
      ],
      "execution_count": 72,
      "outputs": [
        {
          "output_type": "stream",
          "text": [
            "25.0\n",
            "16.549999999999997\n",
            "21.0\n",
            "30.0\n",
            "23.0\n",
            "20.799999999999997\n"
          ],
          "name": "stdout"
        }
      ]
    },
    {
      "cell_type": "code",
      "metadata": {
        "id": "1hxMyV0NYgfD",
        "outputId": "84c8c25d-11c6-4c0c-8f47-bb3f3e7c6562",
        "colab": {
          "base_uri": "https://localhost:8080/",
          "height": 107
        }
      },
      "source": [
        "import pandas as pd\n",
        "\n",
        "#compra = pd.read_csv(\"loja.csv\", index_col=0)\n",
        "\n",
        "#data = {'apples':[3,2,0,1],'oranges':[0,3,7,2]}\n",
        "\n",
        "#compra = pd.DataFrame(data) #criando novo dataframe compra\n",
        "#compra\n",
        "\n",
        "df = pd.DataFrame([[2,4,8],[8,9,1]],columns=['A','B','C'])\n",
        "df"
      ],
      "execution_count": 79,
      "outputs": [
        {
          "output_type": "execute_result",
          "data": {
            "text/html": [
              "<div>\n",
              "<style scoped>\n",
              "    .dataframe tbody tr th:only-of-type {\n",
              "        vertical-align: middle;\n",
              "    }\n",
              "\n",
              "    .dataframe tbody tr th {\n",
              "        vertical-align: top;\n",
              "    }\n",
              "\n",
              "    .dataframe thead th {\n",
              "        text-align: right;\n",
              "    }\n",
              "</style>\n",
              "<table border=\"1\" class=\"dataframe\">\n",
              "  <thead>\n",
              "    <tr style=\"text-align: right;\">\n",
              "      <th></th>\n",
              "      <th>A</th>\n",
              "      <th>B</th>\n",
              "      <th>C</th>\n",
              "    </tr>\n",
              "  </thead>\n",
              "  <tbody>\n",
              "    <tr>\n",
              "      <th>0</th>\n",
              "      <td>2</td>\n",
              "      <td>4</td>\n",
              "      <td>8</td>\n",
              "    </tr>\n",
              "    <tr>\n",
              "      <th>1</th>\n",
              "      <td>8</td>\n",
              "      <td>9</td>\n",
              "      <td>1</td>\n",
              "    </tr>\n",
              "  </tbody>\n",
              "</table>\n",
              "</div>"
            ],
            "text/plain": [
              "   A  B  C\n",
              "0  2  4  8\n",
              "1  8  9  1"
            ]
          },
          "metadata": {
            "tags": []
          },
          "execution_count": 79
        }
      ]
    },
    {
      "cell_type": "code",
      "metadata": {
        "id": "i6hwA6R-aFKa"
      },
      "source": [
        "import pandas as pd\n",
        "\n",
        "#compra = pd.read_csv(\"loja.csv\", index_col=0)\n",
        "\n",
        "#data = {'apples':[3,2,0,1],'oranges':[0,3,7,2]}\n",
        "\n",
        "#compra = pd.DataFrame(data) #criando novo dataframe compra\n",
        "#compra\n",
        "\n",
        "df = pd.DataFrame([[2,4,8],[8,9,1]],columns=['A','B','C'])\n",
        "df.loc [2] = [5,5,5]\n",
        "df ['D'] = [8,8,8]\n",
        "df"
      ],
      "execution_count": null,
      "outputs": []
    }
  ]
}